{
 "cells": [
  {
   "cell_type": "code",
   "execution_count": 2,
   "metadata": {},
   "outputs": [
    {
     "name": "stdout",
     "output_type": "stream",
     "text": [
      "ndcg5_learned tf_idf 0.2638233353462932\n",
      "ndcg5_learned DIR 0.4464550977497427\n",
      "ndcg5_learned BM25 0.4470861040556498\n",
      "ndcg5_learned JM 0.41121188467062203\n"
     ]
    }
   ],
   "source": [
    "import pickle \n",
    "import os\n",
    "ndcg5_folds=dict()\n",
    "for model_name in ['tf_idf','DIR','BM25','JM']:\n",
    "    ndcg5_folds[model_name] = []\n",
    "\n",
    "for fold in range(5):\n",
    "    dir_path='TREC/AP88-89/plots/fold'+str(fold)+'/'\n",
    "    for model_name in ['tf_idf','DIR','BM25','JM']:\n",
    "        for file in os.listdir(dir_path):\n",
    "            if model_name in file:\n",
    "                plot_values = pickle.load(open(dir_path + file,'rb'))\n",
    "                ndcg5_folds[model_name].append(plot_values[model_name][1][0]['ndcg_cut_5'])\n",
    "#             ndcg5_folds['DIR'].append(plot_values['DIR'][1][0]['ndcg_cut_5'])\n",
    "#             ndcg5_folds['BM25'].append(plot_values['BM25'][1][0]['ndcg_cut_5'])\n",
    "#             ndcg5_folds['JM'].append(plot_values['JM'][1][0]['ndcg_cut_5'])\n",
    "for model_name in ['tf_idf','DIR','BM25','JM']:\n",
    "    print(\"ndcg5_learned \"+ model_name, sum(ndcg5_folds[model_name])/5)"
   ]
  },
  {
   "cell_type": "code",
   "execution_count": 1,
   "metadata": {},
   "outputs": [
    {
     "name": "stdout",
     "output_type": "stream",
     "text": [
      "ndcg5_learned tf_idf 0.19976997662006862\n",
      "prop_elements_learned tf_idf 0.8647011217211249\n",
      "ndcg5_learned DIR 0.35219517076683193\n",
      "prop_elements_learned DIR 0.9394756546844869\n",
      "ndcg5_learned BM25 0.36564255162989445\n",
      "prop_elements_learned BM25 0.9464367097040702\n",
      "ndcg5_learned JM 0.06043335498973797\n",
      "prop_elements_learned JM 1.0\n"
     ]
    }
   ],
   "source": [
    "import pickle \n",
    "import os\n",
    "ndcg5_folds=dict()\n",
    "prop_elem = dict()\n",
    "index=dict()\n",
    "for model_name in ['tf_idf','DIR','BM25','JM']:\n",
    "    ndcg5_folds[model_name] = []\n",
    "    prop_elem[model_name] = []\n",
    "    index[model_name]=[]\n",
    "\n",
    "for fold in range(5):\n",
    "    dir_path='TREC/LA/plots/fold'+str(fold)+'/'\n",
    "    for model_name in ['tf_idf','DIR','BM25','JM']:\n",
    "        for file in os.listdir(dir_path):\n",
    "            if model_name in file:\n",
    "                plot_values = pickle.load(open(dir_path + file,'rb'))\n",
    "                best=0\n",
    "                best_index=0\n",
    "                best_prop=0\n",
    "                for i in range(1,len(plot_values[model_name][0])):\n",
    "                    if plot_values[model_name][1][i]['ndcg_cut_5']>best:\n",
    "                        best=plot_values[model_name][1][i]['ndcg_cut_5']\n",
    "                        best_prop=plot_values[model_name][0][i]\n",
    "                        best_index=i\n",
    "                ndcg5_folds[model_name].append(best)\n",
    "                prop_elem[model_name].append(best_prop)\n",
    "                index[model_name].append(best_index)\n",
    "for model_name in ['tf_idf','DIR','BM25','JM']:\n",
    "    print(\"ndcg5_learned \"+ model_name, sum(ndcg5_folds[model_name])/5)\n",
    "    print(\"prop_elements_learned \"+ model_name, sum(prop_elem[model_name])/5)"
   ]
  },
  {
   "cell_type": "code",
   "execution_count": 5,
   "metadata": {},
   "outputs": [
    {
     "name": "stdout",
     "output_type": "stream",
     "text": [
      "ndcg5_learned tf_idf 0.2638233353462932\n",
      "ndcg5_learned DIR 0.4464550977497427\n",
      "ndcg5_learned BM25 0.4470861040556498\n",
      "ndcg5_learned JM 0.41121188467062203\n"
     ]
    }
   ],
   "source": [
    "import pickle \n",
    "import os\n",
    "ndcg5_folds=dict()\n",
    "prop_elem = dict()\n",
    "index=dict()\n",
    "for model_name in ['tf_idf','DIR','BM25','JM']:\n",
    "    ndcg5_folds[model_name] = []\n",
    "    prop_elem[model_name] = []\n",
    "    index[model_name]=[]\n",
    "\n",
    "for fold in range(5):\n",
    "    dir_path='TREC/AP88-89/plots/fold'+str(fold)+'/'\n",
    "    for model_name in ['tf_idf','DIR','BM25','JM']:\n",
    "        for file in os.listdir(dir_path):\n",
    "            if model_name in file:\n",
    "                plot_values = pickle.load(open(dir_path + file,'rb'))\n",
    "                best=plot_values[model_name][1][0]['ndcg_cut_5']\n",
    "                best_prop=plot_values[model_name][0][0]\n",
    "                best_index=0\n",
    "                ndcg5_folds[model_name].append(best)\n",
    "                prop_elem[model_name].append(best_prop)\n",
    "                index[model_name].append(best_index)\n",
    "for model_name in ['tf_idf','DIR','BM25','JM']:\n",
    "    print(\"ndcg5_learned \"+ model_name, sum(ndcg5_folds[model_name])/5)\n",
    "#     print(\"prop_elements_learned \"+ model_name, sum(prop_elem[model_name])/5)"
   ]
  },
  {
   "cell_type": "code",
   "execution_count": null,
   "metadata": {},
   "outputs": [],
   "source": []
  }
 ],
 "metadata": {
  "kernelspec": {
   "display_name": "Python 3",
   "language": "python",
   "name": "python3"
  },
  "language_info": {
   "codemirror_mode": {
    "name": "ipython",
    "version": 3
   },
   "file_extension": ".py",
   "mimetype": "text/x-python",
   "name": "python",
   "nbconvert_exporter": "python",
   "pygments_lexer": "ipython3",
   "version": "3.8.5"
  }
 },
 "nbformat": 4,
 "nbformat_minor": 4
}
